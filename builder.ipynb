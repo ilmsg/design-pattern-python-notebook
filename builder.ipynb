{
 "cells": [
  {
   "cell_type": "code",
   "execution_count": 10,
   "metadata": {},
   "outputs": [],
   "source": [
    "from __future__ import annotations\n",
    "from abc import ABC, abstractmethod\n",
    "from typing import Any"
   ]
  },
  {
   "cell_type": "code",
   "execution_count": 11,
   "metadata": {},
   "outputs": [],
   "source": [
    "class Builder(ABC):\n",
    "    @property\n",
    "    @abstractmethod\n",
    "    def product(self) -> None:\n",
    "        pass\n",
    "    \n",
    "    @abstractmethod\n",
    "    def product_part_a(self) -> None:\n",
    "        pass\n",
    "    \n",
    "    @abstractmethod\n",
    "    def product_part_b(self) -> None:\n",
    "        pass\n",
    "    \n",
    "    @abstractmethod\n",
    "    def product_part_c(self) -> None:\n",
    "        pass\n",
    "    "
   ]
  },
  {
   "cell_type": "code",
   "execution_count": 13,
   "metadata": {},
   "outputs": [],
   "source": [
    "class Product1():\n",
    "    def __init__(self) -> None:\n",
    "        self.parts = []\n",
    "        \n",
    "    def add(self, part: Any) -> None:\n",
    "        self.parts.append(part)\n",
    "        \n",
    "    def list_parts(self) -> None:\n",
    "        print(f\"Product parts: {', '.join(self.parts) }\", end=\"\")"
   ]
  },
  {
   "cell_type": "code",
   "execution_count": 15,
   "metadata": {},
   "outputs": [],
   "source": [
    "class ConcreteBuilder1(Builder):\n",
    "    def __init__(self) -> None:\n",
    "        self.reset()\n",
    "        \n",
    "    def reset(self) -> None:\n",
    "        self._product = Product1()\n",
    "        \n",
    "    @property\n",
    "    def product(self) -> Product1:\n",
    "        product = self._product\n",
    "        self.reset()\n",
    "        return product\n",
    "    \n",
    "    def product_part_a(self) -> None:\n",
    "        self._product.add(\"PartA1\")\n",
    "        \n",
    "    def product_part_b(self) -> None:\n",
    "        self._product.add(\"PartB1\")\n",
    "        \n",
    "    def product_part_c(self) -> None:\n",
    "        self._product.add(\"PartC1\")"
   ]
  },
  {
   "cell_type": "code",
   "execution_count": 14,
   "metadata": {},
   "outputs": [],
   "source": [
    "class Director:\n",
    "    def __init__(self) -> None:\n",
    "        self._buider = None\n",
    "        \n",
    "    @property\n",
    "    def builder(self) -> Builder:\n",
    "        return self._builder\n",
    "    \n",
    "    @builder.setter\n",
    "    def builder(self, builder: Builder) -> None:\n",
    "        self._builder = builder\n",
    "        \n",
    "    def build_minimal_viable_product(self) -> None:\n",
    "        self.builder.product_part_a()\n",
    "        \n",
    "    def build_full_featured_product(self) -> None:\n",
    "        self.builder.product_part_a()\n",
    "        self.builder.product_part_b()\n",
    "        self.builder.product_part_c()"
   ]
  },
  {
   "cell_type": "code",
   "execution_count": 16,
   "metadata": {},
   "outputs": [],
   "source": [
    "director = Director()\n",
    "builder = ConcreteBuilder1()\n",
    "\n",
    "director.builder = builder"
   ]
  },
  {
   "cell_type": "code",
   "execution_count": 17,
   "metadata": {},
   "outputs": [
    {
     "name": "stdout",
     "output_type": "stream",
     "text": [
      "Product parts: PartA1"
     ]
    }
   ],
   "source": [
    "director.build_minimal_viable_product()\n",
    "builder.product.list_parts()"
   ]
  },
  {
   "cell_type": "code",
   "execution_count": 18,
   "metadata": {},
   "outputs": [
    {
     "name": "stdout",
     "output_type": "stream",
     "text": [
      "Product parts: PartA1, PartB1, PartC1"
     ]
    }
   ],
   "source": [
    "director.build_full_featured_product()\n",
    "builder.product.list_parts()"
   ]
  },
  {
   "cell_type": "code",
   "execution_count": 19,
   "metadata": {},
   "outputs": [
    {
     "name": "stdout",
     "output_type": "stream",
     "text": [
      "Product parts: PartA1, PartB1"
     ]
    }
   ],
   "source": [
    "builder.product_part_a()\n",
    "builder.product_part_b()\n",
    "builder.product.list_parts()"
   ]
  },
  {
   "cell_type": "code",
   "execution_count": null,
   "metadata": {},
   "outputs": [],
   "source": []
  }
 ],
 "metadata": {
  "kernelspec": {
   "display_name": "Python 3",
   "language": "python",
   "name": "python3"
  },
  "language_info": {
   "codemirror_mode": {
    "name": "ipython",
    "version": 3
   },
   "file_extension": ".py",
   "mimetype": "text/x-python",
   "name": "python",
   "nbconvert_exporter": "python",
   "pygments_lexer": "ipython3",
   "version": "3.12.3"
  }
 },
 "nbformat": 4,
 "nbformat_minor": 2
}
