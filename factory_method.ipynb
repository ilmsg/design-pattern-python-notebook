{
 "cells": [
  {
   "cell_type": "markdown",
   "metadata": {},
   "source": [
    "Factory Method in Python\n",
    "\n",
    "https://refactoring.guru/design-patterns/factory-method/python/example"
   ]
  },
  {
   "cell_type": "code",
   "execution_count": 21,
   "metadata": {},
   "outputs": [],
   "source": [
    "from __future__ import annotations\n",
    "from abc import ABC, abstractmethod"
   ]
  },
  {
   "cell_type": "code",
   "execution_count": 22,
   "metadata": {},
   "outputs": [],
   "source": [
    "class Creator(ABC):\n",
    "    @abstractmethod\n",
    "    def factory_method(self):\n",
    "        pass\n",
    "    \n",
    "    def some_operation(self) -> str:\n",
    "        product = self.factory_method()\n",
    "        result = f\"Creator: The same creator's code has just worked with {product.operation()}\"\n",
    "        return result"
   ]
  },
  {
   "cell_type": "code",
   "execution_count": 23,
   "metadata": {},
   "outputs": [],
   "source": [
    "class Product(ABC):\n",
    "    @abstractmethod\n",
    "    def operation(self) -> str:\n",
    "        pass"
   ]
  },
  {
   "cell_type": "code",
   "execution_count": 24,
   "metadata": {},
   "outputs": [],
   "source": [
    "class ConcreteProduct1(Product):\n",
    "    def operation(self) -> str:\n",
    "        return \"{Result of the ConcreteProduct1}\"\n",
    "    \n",
    "class ConcreteProduct2(Product):\n",
    "    def operation(self) -> str:\n",
    "        return \"{Result of the ConcreteProduct2}\""
   ]
  },
  {
   "cell_type": "code",
   "execution_count": 25,
   "metadata": {},
   "outputs": [],
   "source": [
    "class ConcreteCreator1(Creator):\n",
    "    def factory_method(self) -> Product:\n",
    "        return ConcreteProduct1()\n",
    "    \n",
    "class ConcreteCreator2(Creator):\n",
    "    def factory_method(self) -> Product:\n",
    "        return ConcreteProduct2()"
   ]
  },
  {
   "cell_type": "code",
   "execution_count": 26,
   "metadata": {},
   "outputs": [],
   "source": [
    "def client_code(creator: Creator) -> None:\n",
    "    print(f\"Client: I'm not aware of the creator's class, but it still works. \\n\"\n",
    "          f\"{creator.some_operation()}\", end=\"\")"
   ]
  },
  {
   "cell_type": "code",
   "execution_count": 27,
   "metadata": {},
   "outputs": [
    {
     "name": "stdout",
     "output_type": "stream",
     "text": [
      "Client: I'm not aware of the creator's class, but it still works. \n",
      "Creator: The same creator's code has just worked with {Result of the ConcreteProduct1}"
     ]
    }
   ],
   "source": [
    "client_code(ConcreteCreator1())"
   ]
  },
  {
   "cell_type": "code",
   "execution_count": 28,
   "metadata": {},
   "outputs": [
    {
     "name": "stdout",
     "output_type": "stream",
     "text": [
      "Client: I'm not aware of the creator's class, but it still works. \n",
      "Creator: The same creator's code has just worked with {Result of the ConcreteProduct2}"
     ]
    }
   ],
   "source": [
    "client_code(ConcreteCreator2())"
   ]
  },
  {
   "cell_type": "code",
   "execution_count": null,
   "metadata": {},
   "outputs": [],
   "source": []
  }
 ],
 "metadata": {
  "kernelspec": {
   "display_name": "Python 3",
   "language": "python",
   "name": "python3"
  },
  "language_info": {
   "codemirror_mode": {
    "name": "ipython",
    "version": 3
   },
   "file_extension": ".py",
   "mimetype": "text/x-python",
   "name": "python",
   "nbconvert_exporter": "python",
   "pygments_lexer": "ipython3",
   "version": "3.12.3"
  }
 },
 "nbformat": 4,
 "nbformat_minor": 2
}
