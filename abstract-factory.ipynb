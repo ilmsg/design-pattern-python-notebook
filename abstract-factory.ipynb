{
 "cells": [
  {
   "cell_type": "code",
   "execution_count": 1,
   "metadata": {},
   "outputs": [],
   "source": [
    "from __future__ import annotations\n",
    "from abc import ABC, abstractmethod"
   ]
  },
  {
   "cell_type": "code",
   "execution_count": 2,
   "metadata": {},
   "outputs": [],
   "source": [
    "class AbstractProductA(ABC):\n",
    "    @abstractmethod\n",
    "    def useful_function_a(self) -> str:\n",
    "        pass\n",
    "    \n",
    "class AbstractProductB(ABC):\n",
    "    @abstractmethod\n",
    "    def useful_function_b(self) -> None:\n",
    "        pass\n",
    "    \n",
    "    @abstractmethod\n",
    "    def another_useful_function_b(self, collaborator: AbstractProductA) -> None:\n",
    "        pass"
   ]
  },
  {
   "cell_type": "code",
   "execution_count": 3,
   "metadata": {},
   "outputs": [],
   "source": [
    "class AbstractFactory(ABC):\n",
    "    @abstractmethod\n",
    "    def create_product_a(self) -> AbstractProductA:\n",
    "        pass\n",
    "    \n",
    "    @abstractmethod\n",
    "    def create_product_b(self) -> AbstractProductB:\n",
    "        pass"
   ]
  },
  {
   "cell_type": "code",
   "execution_count": 4,
   "metadata": {},
   "outputs": [],
   "source": [
    "class ConcreteProductA1(AbstractProductA):\n",
    "    def useful_function_a(self) -> str:\n",
    "        return \"The result of the product A1.\"\n",
    "    \n",
    "class ConcreteProductA2(AbstractProductA):\n",
    "    def useful_function_a(self) -> str:\n",
    "        return \"The result of the product A2.\""
   ]
  },
  {
   "cell_type": "code",
   "execution_count": 5,
   "metadata": {},
   "outputs": [],
   "source": [
    "class ConcreteProductB1(AbstractProductB):\n",
    "    def useful_function_b(self) -> str:\n",
    "        return \"The result of the product B1.\"\n",
    "    \n",
    "    def another_useful_function_b(self, collaborator: AbstractProductA) -> str:\n",
    "        result = collaborator.useful_function_a()\n",
    "        return f\"The result of the B1 collaborating wite the ({result})\"\n",
    "    \n",
    "class ConcreteProductB2(AbstractProductB):\n",
    "    def useful_function_b(self) -> str:\n",
    "        return \"The result of the product B2.\"\n",
    "    \n",
    "    def another_useful_function_b(self, collaborator: AbstractProductA):\n",
    "        result = collaborator.useful_function_a()\n",
    "        return f\"The result of the B2 collaborating with the ({result})\""
   ]
  },
  {
   "cell_type": "code",
   "execution_count": 6,
   "metadata": {},
   "outputs": [],
   "source": [
    "class ConcreteFactory1(AbstractFactory):\n",
    "    def create_product_a(self) -> AbstractProductA:\n",
    "        return ConcreteProductA1()\n",
    "    \n",
    "    def create_product_b(self) -> AbstractProductB:\n",
    "        return ConcreteProductB1()"
   ]
  },
  {
   "cell_type": "code",
   "execution_count": 7,
   "metadata": {},
   "outputs": [],
   "source": [
    "class ConcreteFactory2(AbstractFactory):\n",
    "    def create_product_a(self) -> AbstractProductA:\n",
    "        return ConcreteProductA2()\n",
    "    \n",
    "    def create_product_b(self) -> AbstractProductB:\n",
    "        return ConcreteProductB2()"
   ]
  },
  {
   "cell_type": "code",
   "execution_count": 8,
   "metadata": {},
   "outputs": [],
   "source": [
    "def client_code(factory: AbstractFactory) -> None:\n",
    "    product_a = factory.create_product_a()\n",
    "    product_b = factory.create_product_b()\n",
    "    \n",
    "    print(f\"{product_b.useful_function_b()}\")\n",
    "    print(f\"{product_b.another_useful_function_b(product_a)}\", end=\"\")"
   ]
  },
  {
   "cell_type": "code",
   "execution_count": 9,
   "metadata": {},
   "outputs": [
    {
     "name": "stdout",
     "output_type": "stream",
     "text": [
      "The result of the product B1.\n",
      "The result of the B1 collaborating wite the (The result of the product A1.)"
     ]
    }
   ],
   "source": [
    "client_code(ConcreteFactory1())"
   ]
  },
  {
   "cell_type": "code",
   "execution_count": 10,
   "metadata": {},
   "outputs": [
    {
     "name": "stdout",
     "output_type": "stream",
     "text": [
      "The result of the product B2.\n",
      "The result of the B2 collaborating with the (The result of the product A2.)"
     ]
    }
   ],
   "source": [
    "client_code(ConcreteFactory2())"
   ]
  }
 ],
 "metadata": {
  "kernelspec": {
   "display_name": "Python 3",
   "language": "python",
   "name": "python3"
  },
  "language_info": {
   "codemirror_mode": {
    "name": "ipython",
    "version": 3
   },
   "file_extension": ".py",
   "mimetype": "text/x-python",
   "name": "python",
   "nbconvert_exporter": "python",
   "pygments_lexer": "ipython3",
   "version": "3.12.3"
  }
 },
 "nbformat": 4,
 "nbformat_minor": 2
}
