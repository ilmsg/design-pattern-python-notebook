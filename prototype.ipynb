{
 "cells": [
  {
   "cell_type": "markdown",
   "metadata": {},
   "source": [
    "Prototype in Python\n",
    "\n",
    "https://refactoring.guru/design-patterns/prototype/python/example"
   ]
  },
  {
   "cell_type": "code",
   "execution_count": 2,
   "metadata": {},
   "outputs": [],
   "source": [
    "import copy"
   ]
  },
  {
   "cell_type": "code",
   "execution_count": 3,
   "metadata": {},
   "outputs": [],
   "source": [
    "class SelfReferencingEntity:\n",
    "    def __init__(self):\n",
    "        self.parent = None\n",
    "        \n",
    "    def set_parent(self, parent):\n",
    "        self.parent = parent"
   ]
  },
  {
   "cell_type": "code",
   "execution_count": 5,
   "metadata": {},
   "outputs": [],
   "source": [
    "class SomeCompoent:\n",
    "    def __init__(self, some_int, some_list_of_objects, some_circular_ref):\n",
    "        self.some_int = some_int\n",
    "        self.some_list_of_objects = some_list_of_objects\n",
    "        self.some_circular_ref = some_circular_ref\n",
    "        \n",
    "    def __copy__(self):\n",
    "        some_list_of_objects = copy.copy(self.some_list_of_objects)\n",
    "        some_circular_ref = copy.copy(self.some_circular_ref)\n",
    "        \n",
    "        new = self.__class__(\n",
    "            self.some_int, some_list_of_objects, some_circular_ref\n",
    "        )\n",
    "        \n",
    "        return new\n",
    "    \n",
    "    def __deepcopy__(self, memo=None):\n",
    "        if memo is None:\n",
    "            memo = {}\n",
    "            \n",
    "        some_list_of_objects = copy.deepcopy(self.some_list_of_objects, memo)\n",
    "        some_circular_ref = copy.deepcopy(self.some_circular_ref, memo)\n",
    "        \n",
    "        new = self.__class__(\n",
    "            self.some_int, self.some_list_of_objects, self.some_circular_ref\n",
    "        )\n",
    "        new.__dict__ = copy.deepcopy(self.__dict__, memo)\n",
    "        \n",
    "        return new"
   ]
  },
  {
   "cell_type": "code",
   "execution_count": 6,
   "metadata": {},
   "outputs": [],
   "source": [
    "list_of_objects = [1, {1,2,3}, [1,2,3]]\n",
    "\n",
    "circular_ref = SelfReferencingEntity()\n",
    "component = SomeCompoent(23, list_of_objects, circular_ref)\n",
    "circular_ref.set_parent(component)\n",
    "\n",
    "shallow_copied_component = copy.copy(component)"
   ]
  },
  {
   "cell_type": "code",
   "execution_count": 7,
   "metadata": {},
   "outputs": [
    {
     "name": "stdout",
     "output_type": "stream",
     "text": [
      "Adding elements to `shallow_copied_component`'ssome_list_objects doesn't add it to `component`'ssome_list_of_objects.\n"
     ]
    }
   ],
   "source": [
    "shallow_copied_component.some_list_of_objects.append(\"another object\")\n",
    "if component.some_list_of_objects[-1] == \"another object\":\n",
    "    print(\n",
    "        \"Adding elements to `shallow_copied_component`'s\"\n",
    "        \"some-list_of_objects adds it to `component`'s\"\n",
    "        \"some_list_of_objects.\"\n",
    "    )\n",
    "else:\n",
    "    print(\n",
    "        \"Adding elements to `shallow_copied_component`'s\"\n",
    "        \"some_list_objects doesn't add it to `component`'s\"\n",
    "        \"some_list_of_objects.\"\n",
    "    )"
   ]
  },
  {
   "cell_type": "code",
   "execution_count": 8,
   "metadata": {},
   "outputs": [
    {
     "name": "stdout",
     "output_type": "stream",
     "text": [
      "Changing objects in the `component`'s some_list_of_objects changes that object in `shallow_copied_component`'s some_list_of_objects.\n"
     ]
    }
   ],
   "source": [
    "component.some_list_of_objects[1].add(4)\n",
    "if 4 in shallow_copied_component.some_list_of_objects[1]:\n",
    "    print(\n",
    "        \"Changing objects in the `component`'s some_list_of_objects \"\n",
    "        \"changes that object in `shallow_copied_component`'s \"\n",
    "        \"some_list_of_objects.\"\n",
    "    )\n",
    "else:\n",
    "    print(\n",
    "        \"Changing objects in the `component`'s some_list_of_objects \"\n",
    "        \"doesn't change that object in `shallow_copied_component`'s \"\n",
    "        \"some_list_of_objects.\"\n",
    "    )"
   ]
  },
  {
   "cell_type": "code",
   "execution_count": 9,
   "metadata": {},
   "outputs": [
    {
     "name": "stdout",
     "output_type": "stream",
     "text": [
      "Adding elements to `deep_copied_component`'s some_list_of_objects doesn't add it to `component`'s some_list_of_objects.\n"
     ]
    }
   ],
   "source": [
    "deep_copied_component = copy.deepcopy(component)\n",
    "\n",
    "deep_copied_component.some_list_of_objects.append(\"one more object\")\n",
    "if component.some_list_of_objects[-1] == \"one more object\":\n",
    "    print(\n",
    "        \"Adding elements to `deep_copied_component`'s \"\n",
    "        \"some_list_of_objects adds it to `component`'s \"\n",
    "        \"some_list_of_objects.\"\n",
    "    )\n",
    "else:\n",
    "    print(\n",
    "        \"Adding elements to `deep_copied_component`'s \"\n",
    "        \"some_list_of_objects doesn't add it to `component`'s \"\n",
    "        \"some_list_of_objects.\"\n",
    "    )"
   ]
  },
  {
   "cell_type": "code",
   "execution_count": 10,
   "metadata": {},
   "outputs": [
    {
     "name": "stdout",
     "output_type": "stream",
     "text": [
      "Changing objects in the `component`'s some_list_of_objects doesn't change that object in `deep_copied_component`'s some_list_of_objects.\n"
     ]
    }
   ],
   "source": [
    "component.some_list_of_objects[1].add(10)\n",
    "if 10 in deep_copied_component.some_list_of_objects[1]:\n",
    "    print(\n",
    "        \"Changing objects in the `component`'s some_list_of_objects \"\n",
    "        \"changes that object in `deep_copied_component`'s \"\n",
    "        \"some_list_of_objects.\"\n",
    "    )\n",
    "else:\n",
    "    print(\n",
    "        \"Changing objects in the `component`'s some_list_of_objects \"\n",
    "        \"doesn't change that object in `deep_copied_component`'s \"\n",
    "        \"some_list_of_objects.\"\n",
    "    )"
   ]
  },
  {
   "cell_type": "code",
   "execution_count": 11,
   "metadata": {},
   "outputs": [
    {
     "name": "stdout",
     "output_type": "stream",
     "text": [
      "id(deep_copied_component.some_circular_ref.parent): 140579850750864\n",
      "id(deep_copied_component.some_circular_ref.parent.some_circular_ref.parent): 140579850750864\n",
      "^^ This shows that deepcopied objects contain same reference, they are not cloned repeatedly.\n"
     ]
    }
   ],
   "source": [
    "print(\n",
    "    f\"id(deep_copied_component.some_circular_ref.parent): \"\n",
    "    f\"{id(deep_copied_component.some_circular_ref.parent)}\"\n",
    ")\n",
    "\n",
    "print(\n",
    "    f\"id(deep_copied_component.some_circular_ref.parent.some_circular_ref.parent): \"\n",
    "    f\"{id(deep_copied_component.some_circular_ref.parent.some_circular_ref.parent)}\"\n",
    ")\n",
    "\n",
    "print(\n",
    "    \"^^ This shows that deepcopied objects contain same reference, they \"\n",
    "    \"are not cloned repeatedly.\"\n",
    ")"
   ]
  },
  {
   "cell_type": "code",
   "execution_count": null,
   "metadata": {},
   "outputs": [],
   "source": []
  }
 ],
 "metadata": {
  "kernelspec": {
   "display_name": "Python 3",
   "language": "python",
   "name": "python3"
  },
  "language_info": {
   "codemirror_mode": {
    "name": "ipython",
    "version": 3
   },
   "file_extension": ".py",
   "mimetype": "text/x-python",
   "name": "python",
   "nbconvert_exporter": "python",
   "pygments_lexer": "ipython3",
   "version": "3.12.3"
  }
 },
 "nbformat": 4,
 "nbformat_minor": 2
}
